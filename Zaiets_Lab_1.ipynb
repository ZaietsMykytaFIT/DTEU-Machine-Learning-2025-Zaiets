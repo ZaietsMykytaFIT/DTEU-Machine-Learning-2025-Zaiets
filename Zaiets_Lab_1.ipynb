{
  "nbformat": 4,
  "nbformat_minor": 0,
  "metadata": {
    "colab": {
      "provenance": [],
      "authorship_tag": "ABX9TyN0bbd4/owJamW38gKqJDCR",
      "include_colab_link": true
    },
    "kernelspec": {
      "name": "python3",
      "display_name": "Python 3"
    },
    "language_info": {
      "name": "python"
    }
  },
  "cells": [
    {
      "cell_type": "markdown",
      "metadata": {
        "id": "view-in-github",
        "colab_type": "text"
      },
      "source": [
        "<a href=\"https://colab.research.google.com/github/ZaietsMykytaFIT/DTEU-Machine-Learning-2025-Zaiets/blob/main/Zaiets_Lab_1.ipynb\" target=\"_parent\"><img src=\"https://colab.research.google.com/assets/colab-badge.svg\" alt=\"Open In Colab\"/></a>"
      ]
    },
    {
      "cell_type": "markdown",
      "source": [
        "Лабораторна робота 1: Вступ до машинного навчання. Елементи лінійної алгебри.\n",
        "Варіант 3"
      ],
      "metadata": {
        "id": "NaEPr94CfBGF"
      }
    },
    {
      "cell_type": "code",
      "source": [
        "import numpy as np\n",
        "np.__version__"
      ],
      "metadata": {
        "colab": {
          "base_uri": "https://localhost:8080/",
          "height": 36
        },
        "id": "GULS0BUu1UQW",
        "outputId": "7ee41530-c1ef-48b2-c6a5-5dbf80f1cb8f"
      },
      "execution_count": 69,
      "outputs": [
        {
          "output_type": "execute_result",
          "data": {
            "text/plain": [
              "'2.0.2'"
            ],
            "application/vnd.google.colaboratory.intrinsic+json": {
              "type": "string"
            }
          },
          "metadata": {},
          "execution_count": 69
        }
      ]
    },
    {
      "cell_type": "markdown",
      "source": [
        "Завдання 1: Створіть одновимірний масив (вектор) з парними числами від 2 до 20 та виведіть його значення"
      ],
      "metadata": {
        "id": "ZfEsLEfgjX66"
      }
    },
    {
      "cell_type": "code",
      "source": [
        "np.array(list(range(2, 21, 2)), dtype = int)"
      ],
      "metadata": {
        "colab": {
          "base_uri": "https://localhost:8080/"
        },
        "id": "KB9n6dJjilHI",
        "outputId": "d1599519-5b1c-438d-d0d3-f7779549e5b5"
      },
      "execution_count": 70,
      "outputs": [
        {
          "output_type": "execute_result",
          "data": {
            "text/plain": [
              "array([ 2,  4,  6,  8, 10, 12, 14, 16, 18, 20])"
            ]
          },
          "metadata": {},
          "execution_count": 70
        }
      ]
    },
    {
      "cell_type": "markdown",
      "source": [
        "Завдання 2: Створіть двовимірний масив (матрицю) розміром 3x3, заповніть його випадковими дійсними числами від 0 до 1 та виведіть його значення."
      ],
      "metadata": {
        "id": "m0motr8m2Ka9"
      }
    },
    {
      "cell_type": "code",
      "source": [
        "np.round(np.random.rand(3, 3), 2)"
      ],
      "metadata": {
        "colab": {
          "base_uri": "https://localhost:8080/"
        },
        "id": "bxI977J52Kta",
        "outputId": "166a3b01-f9e9-40e8-ec91-7bc3c2165db7"
      },
      "execution_count": 71,
      "outputs": [
        {
          "output_type": "execute_result",
          "data": {
            "text/plain": [
              "array([[0.54, 0.22, 0.35],\n",
              "       [0.16, 0.65, 0.6 ],\n",
              "       [0.31, 0.01, 0.52]])"
            ]
          },
          "metadata": {},
          "execution_count": 71
        }
      ]
    },
    {
      "cell_type": "markdown",
      "source": [
        "Завдання 3: Створіть масив розміром 3x3, заповніть його випадковими натуральними числами від 1 до 20 та виведіть його значення"
      ],
      "metadata": {
        "id": "14oplJ9h3wOL"
      }
    },
    {
      "cell_type": "code",
      "source": [
        "np.random.randint(1, 21, (3, 3))"
      ],
      "metadata": {
        "colab": {
          "base_uri": "https://localhost:8080/"
        },
        "id": "Hhnx27ZD4IDz",
        "outputId": "b3515e26-adb3-4d89-fd4f-850fbbe88534"
      },
      "execution_count": 72,
      "outputs": [
        {
          "output_type": "execute_result",
          "data": {
            "text/plain": [
              "array([[ 2, 10,  7],\n",
              "       [ 1, 20,  7],\n",
              "       [ 7,  3, 11]])"
            ]
          },
          "metadata": {},
          "execution_count": 72
        }
      ]
    },
    {
      "cell_type": "markdown",
      "source": [
        "Завдання 4: Створіть масив розміром 4x4, заповніть його випадковими дійсними числами в діапазоні від 0 до 1 та знайдіть мінімальний елемент."
      ],
      "metadata": {
        "id": "3Yjo0V6v5hRW"
      }
    },
    {
      "cell_type": "code",
      "source": [
        "array = np.random.rand(4, 4)\n",
        "array, array.min()"
      ],
      "metadata": {
        "colab": {
          "base_uri": "https://localhost:8080/"
        },
        "id": "vtawrqtP5hlu",
        "outputId": "c219f696-a470-4957-fc6f-242670e7b6c1"
      },
      "execution_count": 73,
      "outputs": [
        {
          "output_type": "execute_result",
          "data": {
            "text/plain": [
              "(array([[0.38541452, 0.59036063, 0.38997084, 0.20158145],\n",
              "        [0.78573637, 0.42478835, 0.41497579, 0.28686039],\n",
              "        [0.32401275, 0.95632608, 0.09944045, 0.60689552],\n",
              "        [0.47878694, 0.08413886, 0.20814651, 0.77485847]]),\n",
              " np.float64(0.08413886466913545))"
            ]
          },
          "metadata": {},
          "execution_count": 73
        }
      ]
    },
    {
      "cell_type": "markdown",
      "source": [
        "Завдання 5: Створіть два одновимірних масиви розміром 6, заповніть їх випадковими цілими числами в діапазоні від -20 до 20 та виконайте на них поелементні операції додавання, віднімання та множення."
      ],
      "metadata": {
        "id": "nED-3ZfA6blr"
      }
    },
    {
      "cell_type": "code",
      "source": [
        "arr1, arr2 = np.random.randint(-20, 21, 6), np.random.randint(-20, 21, 6)\n",
        "arr1, arr2, arr1 + arr2, arr1 - arr2, arr1 * arr2\n",
        "#  orig x2,      +,           -,           *."
      ],
      "metadata": {
        "colab": {
          "base_uri": "https://localhost:8080/"
        },
        "id": "gkSZQVf76b41",
        "outputId": "aaefa382-47bf-4cdd-e809-80d8fe167996"
      },
      "execution_count": 74,
      "outputs": [
        {
          "output_type": "execute_result",
          "data": {
            "text/plain": [
              "(array([ 19, -11,  -2,  -4,  18,   7]),\n",
              " array([19, -4, 12, 10,  2,  9]),\n",
              " array([ 38, -15,  10,   6,  20,  16]),\n",
              " array([  0,  -7, -14, -14,  16,  -2]),\n",
              " array([361,  44, -24, -40,  36,  63]))"
            ]
          },
          "metadata": {},
          "execution_count": 74
        }
      ]
    },
    {
      "cell_type": "markdown",
      "source": [
        "Завдання 6: Створіть дві матриці 3x3, заповніть їх довільними цілими числами від 3 до 30 та знайдіть їх добуток."
      ],
      "metadata": {
        "id": "Rsk_LKVAK3pv"
      }
    },
    {
      "cell_type": "code",
      "source": [
        "arr1, arr2 = np.random.randint(3, 31, (3, 3)), np.random.randint(3, 31, (3, 3))\n",
        "arr1*arr2"
      ],
      "metadata": {
        "colab": {
          "base_uri": "https://localhost:8080/"
        },
        "id": "XlblkqJ_Lfcc",
        "outputId": "9676231b-2b8b-49c6-a14a-6587c7353cf1"
      },
      "execution_count": 85,
      "outputs": [
        {
          "output_type": "execute_result",
          "data": {
            "text/plain": [
              "array([[306, 187, 234],\n",
              "       [494, 588, 336],\n",
              "       [ 70,  64, 364]])"
            ]
          },
          "metadata": {},
          "execution_count": 85
        }
      ]
    },
    {
      "cell_type": "markdown",
      "source": [
        "Завдання 7: Створіть дві матриці розміром 4x2 та 2x5, заповніть їх випадковими цілими числами в діапазоні від 1 до 7 та перемножте їх між собою"
      ],
      "metadata": {
        "id": "i4hEGyjeM4hd"
      }
    },
    {
      "cell_type": "code",
      "source": [
        "arr1, arr2 = np.random.randint(1, 7, (4, 2)), np.random.randint(1, 7, (2, 5))\n",
        "arr1, arr2, np.dot(arr1, arr2)"
      ],
      "metadata": {
        "colab": {
          "base_uri": "https://localhost:8080/"
        },
        "id": "Et09XywKNXWf",
        "outputId": "a144f5c7-f8ca-4204-8f82-16947037a939"
      },
      "execution_count": 76,
      "outputs": [
        {
          "output_type": "execute_result",
          "data": {
            "text/plain": [
              "(array([[6, 5],\n",
              "        [1, 3],\n",
              "        [6, 1],\n",
              "        [5, 1]]),\n",
              " array([[1, 4, 5, 5, 5],\n",
              "        [2, 4, 4, 6, 4]]),\n",
              " array([[16, 44, 50, 60, 50],\n",
              "        [ 7, 16, 17, 23, 17],\n",
              "        [ 8, 28, 34, 36, 34],\n",
              "        [ 7, 24, 29, 31, 29]]))"
            ]
          },
          "metadata": {},
          "execution_count": 76
        }
      ]
    },
    {
      "cell_type": "markdown",
      "source": [
        "Завдання 8: Створіть матрицю розміром 2x2, заповніть її випадковими цілими числами в діапазоні від 1 до 8 та знайдіть її обернену матрицю"
      ],
      "metadata": {
        "id": "QKA4OArGN6a5"
      }
    },
    {
      "cell_type": "code",
      "source": [
        "arr = np.random.randint(1, 8, (2, 2))\n",
        "arr_i = np.linalg.inv(arr)\n",
        "arr, arr_i"
      ],
      "metadata": {
        "colab": {
          "base_uri": "https://localhost:8080/"
        },
        "id": "RXIIvOeUOCTj",
        "outputId": "e1ec3e9a-06d7-4af9-cbdd-2589bf8ffa07"
      },
      "execution_count": 89,
      "outputs": [
        {
          "output_type": "execute_result",
          "data": {
            "text/plain": [
              "(array([[4, 1],\n",
              "        [3, 1]]),\n",
              " array([[ 1., -1.],\n",
              "        [-3.,  4.]]))"
            ]
          },
          "metadata": {},
          "execution_count": 89
        }
      ]
    },
    {
      "cell_type": "markdown",
      "source": [
        "Завдання 9: Створіть матрицю розміром 2x3, заповніть її випадковими дійсними числами в діапазоні від 0 до 1 та транспонуйте її."
      ],
      "metadata": {
        "id": "1YBXyOvgpr7v"
      }
    },
    {
      "cell_type": "code",
      "source": [
        "arr = np.random.rand(2, 3)\n",
        "arr, arr.T"
      ],
      "metadata": {
        "colab": {
          "base_uri": "https://localhost:8080/"
        },
        "id": "SLKzlbfcpymB",
        "outputId": "728676ed-5075-4540-8dd3-36d1c34e82e2"
      },
      "execution_count": 78,
      "outputs": [
        {
          "output_type": "execute_result",
          "data": {
            "text/plain": [
              "(array([[0.92823271, 0.58622705, 0.21783023],\n",
              "        [0.02293492, 0.94112042, 0.11583533]]),\n",
              " array([[0.92823271, 0.02293492],\n",
              "        [0.58622705, 0.94112042],\n",
              "        [0.21783023, 0.11583533]]))"
            ]
          },
          "metadata": {},
          "execution_count": 78
        }
      ]
    },
    {
      "cell_type": "markdown",
      "source": [
        "Завдання 10: Створіть матрицю розміром 3x4 та вектор розміром 4 x1, заповніть їх випадковими цілими числами в діапазоні від 1 до 10 та знайдіть добуток матриці на вектор"
      ],
      "metadata": {
        "id": "Fvp1hRH9qlhk"
      }
    },
    {
      "cell_type": "code",
      "source": [
        "arr, vector = np.random.randint(1, 11, (3, 4)), np.random.randint(1, 11, (4, 1))\n",
        "result = np.dot(arr, vector)\n",
        "arr, vector, result"
      ],
      "metadata": {
        "colab": {
          "base_uri": "https://localhost:8080/"
        },
        "id": "JR3GQ_3qqq26",
        "outputId": "b263c4cb-39d7-4445-d0ed-6b289c0782cd"
      },
      "execution_count": 79,
      "outputs": [
        {
          "output_type": "execute_result",
          "data": {
            "text/plain": [
              "(array([[ 5, 10, 10,  5],\n",
              "        [ 8,  7,  7,  7],\n",
              "        [ 7,  8,  2,  3]]),\n",
              " array([[ 7],\n",
              "        [ 4],\n",
              "        [ 9],\n",
              "        [10]]),\n",
              " array([[215],\n",
              "        [217],\n",
              "        [129]]))"
            ]
          },
          "metadata": {},
          "execution_count": 79
        }
      ]
    },
    {
      "cell_type": "markdown",
      "source": [
        "Завдання 11: Створіть матрицю розміром 2x3 та вектор розміром 3x1, заповніть матрицю випадковими дійсними числами від 0 до 1, а вектор - випадковими цілими числами в діапазоні від 1 до 10, і знайдіть добуток матриці на вектор."
      ],
      "metadata": {
        "id": "XplXY_KFrLYY"
      }
    },
    {
      "cell_type": "code",
      "source": [
        "arr, vector = np.random.rand(2, 3), np.random.randint(1, 11, (3, 1))\n",
        "result = np.dot(arr, vector)\n",
        "arr, vector, result"
      ],
      "metadata": {
        "colab": {
          "base_uri": "https://localhost:8080/"
        },
        "id": "ZPFKlYYIrdr8",
        "outputId": "bb044d6a-4647-4b85-d9f9-a8d1237b791a"
      },
      "execution_count": 80,
      "outputs": [
        {
          "output_type": "execute_result",
          "data": {
            "text/plain": [
              "(array([[0.61524581, 0.41600399, 0.36844008],\n",
              "        [0.78320618, 0.83313431, 0.82031673]]),\n",
              " array([[3],\n",
              "        [7],\n",
              "        [7]]),\n",
              " array([[ 7.33684596],\n",
              "        [13.92377585]]))"
            ]
          },
          "metadata": {},
          "execution_count": 80
        }
      ]
    },
    {
      "cell_type": "markdown",
      "source": [
        "Завдання 12: Створіть дві матриці розміром 4x4, заповніть їх випадковими цілими числами в діапазоні від 1 до 10 та знайдіть їхню суму."
      ],
      "metadata": {
        "id": "lmlIj8J4rwQD"
      }
    },
    {
      "cell_type": "code",
      "source": [
        "arr1, arr2 = np.random.randint(1, 11, (4, 4)), np.random.randint(1, 11, (4, 4))\n",
        "arr1 + arr2"
      ],
      "metadata": {
        "colab": {
          "base_uri": "https://localhost:8080/"
        },
        "id": "38iRsmRsr14m",
        "outputId": "d4165358-db47-40d6-b258-05faa401b0d3"
      },
      "execution_count": 81,
      "outputs": [
        {
          "output_type": "execute_result",
          "data": {
            "text/plain": [
              "array([[12, 10,  7,  4],\n",
              "       [ 7, 13,  8,  2],\n",
              "       [14,  5,  8, 15],\n",
              "       [10, 11, 13, 16]])"
            ]
          },
          "metadata": {},
          "execution_count": 81
        }
      ]
    },
    {
      "cell_type": "markdown",
      "source": [
        "Завдання 13: Створіть дві матриці розміром 4x4, заповніть їх випадковими дійсними числами в діапазоні від -1 до 1 та знайдіть їх добуток"
      ],
      "metadata": {
        "id": "piFrEP_QsKq7"
      }
    },
    {
      "cell_type": "code",
      "source": [
        "arr1, arr2 = np.random.uniform(-1, 1, (4, 4)), np.random.uniform(-1, 1, (4, 4))\n",
        "np.dot(arr1, arr2)"
      ],
      "metadata": {
        "colab": {
          "base_uri": "https://localhost:8080/"
        },
        "id": "YBQk0sb2sRAz",
        "outputId": "d2b89912-d251-4a18-9a4c-dcb5c880cf42"
      },
      "execution_count": 82,
      "outputs": [
        {
          "output_type": "execute_result",
          "data": {
            "text/plain": [
              "array([[ 0.326998  ,  1.10944736, -0.35179978, -1.2203833 ],\n",
              "       [-0.11134722, -0.20639556,  0.43543062,  0.49891803],\n",
              "       [ 0.55442771,  0.65186221,  0.03633012, -0.80052022],\n",
              "       [ 1.12925468,  0.21014341,  0.19723676, -0.62722618]])"
            ]
          },
          "metadata": {},
          "execution_count": 82
        }
      ]
    },
    {
      "cell_type": "markdown",
      "source": [
        "Завдання 14: Створіть матрицю розміром 3x3, заповніть її випадковими дійсними числами в діапазоні від -1 до 1 та знайдіть суму елементів матриці"
      ],
      "metadata": {
        "id": "tvOBCIIMuaCc"
      }
    },
    {
      "cell_type": "code",
      "source": [
        "np.sum(np.random.uniform(-1, 1, (3, 3)))"
      ],
      "metadata": {
        "colab": {
          "base_uri": "https://localhost:8080/"
        },
        "id": "C2X12tkqugN9",
        "outputId": "22fb3dd0-7910-4bbb-f705-562936021f14"
      },
      "execution_count": 83,
      "outputs": [
        {
          "output_type": "execute_result",
          "data": {
            "text/plain": [
              "np.float64(0.8294585283622213)"
            ]
          },
          "metadata": {},
          "execution_count": 83
        }
      ]
    },
    {
      "cell_type": "markdown",
      "source": [
        "Завдання 15: Створіть матрицю розміром 5x5, заповніть її випадковими дійсними числами в діапазоні від -0.5 до 0.5 та знайдіть вектор-стовпчик, що містить суму елементів кожного рядка матриці."
      ],
      "metadata": {
        "id": "WIng3my-vBKG"
      }
    },
    {
      "cell_type": "code",
      "source": [
        "np.sum(np.random.uniform(-0.5, 0.5, (5, 5)), axis = 1)"
      ],
      "metadata": {
        "colab": {
          "base_uri": "https://localhost:8080/"
        },
        "id": "Sk8z7dP5vK1u",
        "outputId": "e20b22ca-7d41-4c65-f347-4cea9a2b1b59"
      },
      "execution_count": 84,
      "outputs": [
        {
          "output_type": "execute_result",
          "data": {
            "text/plain": [
              "array([0.08022205, 0.93103929, 0.0383561 , 0.30106613, 0.28767618])"
            ]
          },
          "metadata": {},
          "execution_count": 84
        }
      ]
    },
    {
      "cell_type": "markdown",
      "source": [
        "Висновок: Я згадав як ініціалізувати масиви та виконувати елементарні дії над ними."
      ],
      "metadata": {
        "id": "HIVBV12OzSOj"
      }
    }
  ]
}