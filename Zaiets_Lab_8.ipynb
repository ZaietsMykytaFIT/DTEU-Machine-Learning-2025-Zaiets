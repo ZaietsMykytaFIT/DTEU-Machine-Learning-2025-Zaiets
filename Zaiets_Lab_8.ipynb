{
  "nbformat": 4,
  "nbformat_minor": 0,
  "metadata": {
    "colab": {
      "provenance": [],
      "authorship_tag": "ABX9TyNU9ytvV9vJkrEOQnoO+y5p",
      "include_colab_link": true
    },
    "kernelspec": {
      "name": "python3",
      "display_name": "Python 3"
    },
    "language_info": {
      "name": "python"
    }
  },
  "cells": [
    {
      "cell_type": "markdown",
      "metadata": {
        "id": "view-in-github",
        "colab_type": "text"
      },
      "source": [
        "<a href=\"https://colab.research.google.com/github/ZaietsMykytaFIT/DTEU-Machine-Learning-2025-Zaiets/blob/main/Zaiets_Lab_8.ipynb\" target=\"_parent\"><img src=\"https://colab.research.google.com/assets/colab-badge.svg\" alt=\"Open In Colab\"/></a>"
      ]
    },
    {
      "cell_type": "markdown",
      "source": [
        "ЛАБОРАТОРНА РОБОТА 8: Побудова рекомендаційної системи з нуля"
      ],
      "metadata": {
        "id": "hMYADtFh7jNp"
      }
    },
    {
      "cell_type": "markdown",
      "source": [
        "Побудувати рекомендаційну систему МНК, градієнтного спуску і кластеризації.\n",
        "Вивести рекомендації для певного користувача.Використати датасет MovieLens 100k"
      ],
      "metadata": {
        "id": "WJnEp47v70X6"
      }
    },
    {
      "cell_type": "code",
      "execution_count": null,
      "metadata": {
        "colab": {
          "base_uri": "https://localhost:8080/"
        },
        "id": "rU2b1Ghm7aKb",
        "outputId": "508b8afa-daaf-4bd4-d90f-2c1acab104bb"
      },
      "outputs": [
        {
          "output_type": "stream",
          "name": "stdout",
          "text": [
            "Requirement already satisfied: numpy in /usr/local/lib/python3.11/dist-packages (1.26.4)\n",
            "Requirement already satisfied: surprise in /usr/local/lib/python3.11/dist-packages (0.1)\n",
            "Requirement already satisfied: scikit-surprise in /usr/local/lib/python3.11/dist-packages (from surprise) (1.1.4)\n",
            "Requirement already satisfied: joblib>=1.2.0 in /usr/local/lib/python3.11/dist-packages (from scikit-surprise->surprise) (1.4.2)\n",
            "Requirement already satisfied: numpy>=1.19.5 in /usr/local/lib/python3.11/dist-packages (from scikit-surprise->surprise) (1.26.4)\n",
            "Requirement already satisfied: scipy>=1.6.0 in /usr/local/lib/python3.11/dist-packages (from scikit-surprise->surprise) (1.15.2)\n"
          ]
        }
      ],
      "source": [
        "!pip install numpy numpy==1.26.4\n",
        "!pip install surprise"
      ]
    },
    {
      "cell_type": "code",
      "source": [
        "import numpy as np\n",
        "from surprise import Dataset\n",
        "import os\n",
        "import math\n",
        "import random"
      ],
      "metadata": {
        "id": "_tdeokuU8FZN"
      },
      "execution_count": null,
      "outputs": []
    },
    {
      "cell_type": "code",
      "source": [
        "data = Dataset.load_builtin('ml-100k')\n",
        "\n",
        "print(\"Перші 5 рядків датасету:\")\n",
        "for row in data.raw_ratings[:5]:\n",
        "    print(row)"
      ],
      "metadata": {
        "colab": {
          "base_uri": "https://localhost:8080/"
        },
        "id": "uvWJo3g_8GgD",
        "outputId": "15353604-f70f-497b-efac-51ee04cb564b"
      },
      "execution_count": null,
      "outputs": [
        {
          "output_type": "stream",
          "name": "stdout",
          "text": [
            "Перші 5 рядків датасету:\n",
            "('196', '242', 3.0, '881250949')\n",
            "('186', '302', 3.0, '891717742')\n",
            "('22', '377', 1.0, '878887116')\n",
            "('244', '51', 2.0, '880606923')\n",
            "('166', '346', 1.0, '886397596')\n"
          ]
        }
      ]
    },
    {
      "cell_type": "code",
      "source": [
        "raw_ratings = data.raw_ratings\n",
        "\n",
        "# --- 2. Load movie titles manually ---\n",
        "# Find the path to the dataset files downloaded by surprise\n",
        "# This assumes the default download location (~/.surprise_data/ml-100k/)\n",
        "# You might need to adjust this path if it's different on your system.\n",
        "try:\n",
        "    data_folder = os.path.expanduser('~/.surprise_data/ml-100k/ml-100k/')\n",
        "    item_file_path = os.path.join(data_folder, 'u.item')\n",
        "\n",
        "    # Check if the file exists, if not, maybe try fetching it (though load_builtin should handle it)\n",
        "    if not os.path.exists(item_file_path):\n",
        "         print(f\"Warning: u.item not found at {item_file_path}. Movie titles will not be available.\")\n",
        "         item_id_to_title = {}\n",
        "    else:\n",
        "         item_id_to_title = {}\n",
        "         with open(item_file_path, 'r', encoding='ISO-8859-1') as f:\n",
        "             for line in f:\n",
        "                 parts = line.strip().split('|')\n",
        "                 item_id = int(parts[0])\n",
        "                 title = parts[1]\n",
        "                 item_id_to_title[item_id] = title\n",
        "         print(f\"Loaded {len(item_id_to_title)} movie titles.\")\n",
        "\n",
        "except FileNotFoundError:\n",
        "     print(\"Warning: Could not find the ml-100k data folder. Movie titles will not be available.\")\n",
        "     print(\"Please ensure the dataset was downloaded correctly by surprise.\")\n",
        "     item_id_to_title = {}\n",
        "\n",
        "\n",
        "# --- 3. Determine matrix dimensions ---\n",
        "max_user_id = 0\n",
        "max_item_id = 0\n",
        "for uid, iid, _, _ in raw_ratings:\n",
        "    user_id = int(uid)\n",
        "    item_id = int(iid)\n",
        "    if user_id > max_user_id:\n",
        "        max_user_id = user_id\n",
        "    if item_id > max_item_id:\n",
        "        max_item_id = item_id\n",
        "\n",
        "num_users = max_user_id\n",
        "num_items = max_item_id\n",
        "print(f\"Found {num_users} users and {num_items} items.\")\n",
        "\n",
        "# --- 4. Build the rating matrix ---\n",
        "# Initialize matrix with zeros\n",
        "ratings = np.zeros((num_users, num_items))\n",
        "\n",
        "# Populate the matrix\n",
        "# Note: raw_ratings gives user/item IDs as strings, convert to int\n",
        "# We use 0-based indexing for the matrix (user_id - 1, item_id - 1)\n",
        "for uid, iid, rating, _ in raw_ratings:\n",
        "    user_index = int(uid) - 1\n",
        "    item_index = int(iid) - 1\n",
        "    # Ensure indices are within bounds (although they should be given how we found max IDs)\n",
        "    if 0 <= user_index < num_users and 0 <= item_index < num_items:\n",
        "         ratings[user_index, item_index] = float(rating)\n",
        "    else:\n",
        "         print(f\"Warning: Index out of bounds for user {uid} or item {iid}\")"
      ],
      "metadata": {
        "id": "qImvGX8QFGmF"
      },
      "execution_count": null,
      "outputs": []
    },
    {
      "cell_type": "markdown",
      "source": [
        "МНК для рекомендаційних систем"
      ],
      "metadata": {
        "id": "6J8WGUovHH5n"
      }
    },
    {
      "cell_type": "code",
      "source": [
        "# Гіперпараметри\n",
        "num_factors = 10\n",
        "steps = 30\n",
        "alpha = 0.01\n",
        "lambda_reg = 0.1\n",
        "\n",
        "# Ініціалізація матриць\n",
        "# Using lists of lists as in the example\n",
        "def init_matrix(rows, cols):\n",
        "    # Small random values are often better for initialization\n",
        "    # return [[random.uniform(0, 0.1) for _ in range(cols)] for _ in range(rows)]\n",
        "    # Or use numpy for potentially better performance if allowed (example used lists)\n",
        "     return np.random.rand(rows, cols) * 0.1 # Using numpy initialization\n",
        "\n",
        "U = init_matrix(num_users, num_factors)\n",
        "V = init_matrix(num_items, num_factors) # Note: shape is (num_items, num_factors)\n",
        "\n",
        "# Навчання (ALS-подібний підхід) - using the example's SGD-like update\n",
        "print(\"Starting training...\")\n",
        "for step in range(steps):\n",
        "    print(f\"Step {step+1}/{steps}\")\n",
        "    for i in range(num_users):\n",
        "        for j in range(num_items):\n",
        "            r_ij = ratings[i][j]\n",
        "            if r_ij == 0: # Skip if no rating exists\n",
        "                continue\n",
        "\n",
        "            # Predict\n",
        "            pred = np.dot(U[i, :], V[j, :]) # Using numpy dot product\n",
        "            # pred = sum(U[i][k] * V[j][k] for k in range(num_factors)) # Original list version\n",
        "\n",
        "            # Calculate error\n",
        "            error = r_ij - pred\n",
        "\n",
        "            # Update factors using Gradient Descent logic\n",
        "            for k in range(num_factors):\n",
        "                 u_ik = U[i, k]\n",
        "                 v_jk = V[j, k]\n",
        "                 U[i, k] += alpha * (error * v_jk - lambda_reg * u_ik)\n",
        "                 V[j, k] += alpha * (error * u_ik - lambda_reg * v_jk) # Corrected index to V[j, k]\n",
        "print(\"Training finished.\")\n",
        "\n",
        "# Прогноз\n",
        "def predict_rating(user_index, item_index):\n",
        "    # Ensure indices are within bounds before predicting\n",
        "    if 0 <= user_index < num_users and 0 <= item_index < num_items:\n",
        "         # return sum(U[user_index][k] * V[item_index][k] for k in range(num_factors)) # Original list version\n",
        "         return np.dot(U[user_index, :], V[item_index, :]) # Using numpy dot product\n",
        "    else:\n",
        "         print(f\"Warning: Index out of bounds for prediction ({user_index}, {item_index})\")\n",
        "         return 0 # Return a default value like 0 or average rating\n",
        "\n",
        "# --- 5. Adapt the recommendation function ---\n",
        "def recommend(user_id_input, top_n=5):\n",
        "    user_index = user_id_input - 1 # Convert 1-based user_id to 0-based index\n",
        "\n",
        "    if not (0 <= user_index < num_users):\n",
        "        print(f\"Error: User ID {user_id_input} is out of range.\")\n",
        "        return\n",
        "\n",
        "    predictions = []\n",
        "    for j in range(num_items): # j is the 0-based item index\n",
        "        # Check if the user has NOT rated this item\n",
        "        if ratings[user_index, j] == 0:\n",
        "            pred = predict_rating(user_index, j)\n",
        "            predictions.append((j, pred)) # Store 0-based index and prediction\n",
        "\n",
        "    # Sort by predicted rating in descending order\n",
        "    predictions.sort(key=lambda x: x[1], reverse=True)\n",
        "\n",
        "    print(f\"\\nРекомендації для користувача {user_id_input}:\")\n",
        "    for idx in range(min(top_n, len(predictions))):\n",
        "        item_index, score = predictions[idx] # item_index is 0-based\n",
        "        item_id = item_index + 1 # Convert back to 1-based item_id for lookup\n",
        "\n",
        "        # Get title from the dictionary\n",
        "        title = item_id_to_title.get(item_id, f\"Unknown Title (ID: {item_id})\")\n",
        "\n",
        "        print(f\"→ {title} (ID: {item_id}) — прогнозована оцінка: {round(score, 2)}\")\n",
        "\n",
        "# Приклад - Recommend for user 1\n",
        "recommend(1)\n",
        "\n",
        "# Example - Recommend for user 196 (who rated item 242 in the first few lines of data)\n",
        "recommend(196, top_n=10)"
      ],
      "metadata": {
        "colab": {
          "base_uri": "https://localhost:8080/"
        },
        "id": "2vScqwEbBwE9",
        "outputId": "5aa58513-0dbf-4f35-c025-fa164ed466f2"
      },
      "execution_count": null,
      "outputs": [
        {
          "output_type": "stream",
          "name": "stdout",
          "text": [
            "Loaded 1682 movie titles.\n",
            "Found 943 users and 1682 items.\n",
            "Starting training...\n",
            "Step 1/30\n",
            "Step 2/30\n",
            "Step 3/30\n",
            "Step 4/30\n",
            "Step 5/30\n",
            "Step 6/30\n",
            "Step 7/30\n",
            "Step 8/30\n",
            "Step 9/30\n",
            "Step 10/30\n",
            "Step 11/30\n",
            "Step 12/30\n",
            "Step 13/30\n",
            "Step 14/30\n",
            "Step 15/30\n",
            "Step 16/30\n",
            "Step 17/30\n",
            "Step 18/30\n",
            "Step 19/30\n",
            "Step 20/30\n",
            "Step 21/30\n",
            "Step 22/30\n",
            "Step 23/30\n",
            "Step 24/30\n",
            "Step 25/30\n",
            "Step 26/30\n",
            "Step 27/30\n",
            "Step 28/30\n",
            "Step 29/30\n",
            "Step 30/30\n",
            "Training finished.\n",
            "\n",
            "Рекомендації для користувача 1:\n",
            "→ Pather Panchali (1955) (ID: 1449) — прогнозована оцінка: 4.8\n",
            "→ Close Shave, A (1995) (ID: 408) — прогнозована оцінка: 4.7\n",
            "→ Faust (1994) (ID: 1367) — прогнозована оцінка: 4.63\n",
            "→ Dr. Strangelove or: How I Learned to Stop Worrying and Love the Bomb (1963) (ID: 474) — прогнозована оцінка: 4.55\n",
            "→ Two or Three Things I Know About Her (1966) (ID: 851) — прогнозована оцінка: 4.5\n",
            "\n",
            "Рекомендації для користувача 196:\n",
            "→ Pather Panchali (1955) (ID: 1449) — прогнозована оцінка: 4.87\n",
            "→ Faust (1994) (ID: 1367) — прогнозована оцінка: 4.65\n",
            "→ Schindler's List (1993) (ID: 318) — прогнозована оцінка: 4.58\n",
            "→ Wrong Trousers, The (1993) (ID: 169) — прогнозована оцінка: 4.58\n",
            "→ Shawshank Redemption, The (1994) (ID: 64) — прогнозована оцінка: 4.57\n",
            "→ Maya Lin: A Strong Clear Vision (1994) (ID: 119) — прогнозована оцінка: 4.52\n",
            "→ Close Shave, A (1995) (ID: 408) — прогнозована оцінка: 4.51\n",
            "→ Santa with Muscles (1996) (ID: 1500) — прогнозована оцінка: 4.47\n",
            "→ Usual Suspects, The (1995) (ID: 12) — прогнозована оцінка: 4.46\n",
            "→ Two or Three Things I Know About Her (1966) (ID: 851) — прогнозована оцінка: 4.43\n"
          ]
        }
      ]
    },
    {
      "cell_type": "markdown",
      "source": [
        "Рекомендаційна система на основі градієнного спуску"
      ],
      "metadata": {
        "id": "qJpKspfJG_J7"
      }
    },
    {
      "cell_type": "code",
      "source": [
        "# Градієнтний спуск\n",
        "for step in range(steps):\n",
        "    for i in range(num_users):\n",
        "        for j in range(num_items):\n",
        "            r_ij = ratings[i][j]\n",
        "            if r_ij == 0:\n",
        "                continue\n",
        "            # передбачення та помилка\n",
        "            pred = sum(U[i][k] * V[j][k] for k in range(num_factors))\n",
        "            error = r_ij - pred\n",
        "            # оновлення U і V\n",
        "            for k in range(num_factors):\n",
        "                u_ik = U[i][k]\n",
        "                v_jk = V[j][k]\n",
        "                U[i][k] += alpha * (error * v_jk - lambda_reg * u_ik)\n",
        "                V[j][k] += alpha * (error * u_ik - lambda_reg * v_jk)\n",
        "\n",
        "# Прогноз\n",
        "def predict_rating(user_index, item_index):\n",
        "    return sum(U[user_index][k] * V[item_index][k] for k in range(num_factors))\n",
        "\n",
        "# Рекомендації\n",
        "def recommend(user_index, top_n=5):\n",
        "    preds = []\n",
        "    rated_items = [int(iid) - 1 for uid, iid, _, _ in raw_ratings if int(uid) - 1 == user_index]\n",
        "    for j in range(num_items):\n",
        "        if j not in rated_items:\n",
        "            pred = predict_rating(user_index, j)\n",
        "            preds.append((j, pred))\n",
        "    preds.sort(key=lambda x: x[1], reverse=True)\n",
        "    print(f\"Рекомендації для користувача {user_index + 1}:\")\n",
        "    count = 0\n",
        "    for item_index, score in preds:\n",
        "        if item_index + 1 in item_id_to_title:\n",
        "            print(f\"Фільм: {item_id_to_title[item_index + 1]}, Оцінка: {round(score, 2)}\")\n",
        "            count += 1\n",
        "            if count == top_n:\n",
        "                break\n",
        "        elif count < top_n:\n",
        "            print(f\"Товар ID: {item_index + 1}, Оцінка: {round(score, 2)} (назва недоступна)\")\n",
        "            count += 1\n",
        "\n",
        "# Тест для перших 5 користувачів\n",
        "for i in range(min(5, num_users)):\n",
        "    recommend(i)\n",
        "    print(\"-\" * 30)"
      ],
      "metadata": {
        "colab": {
          "base_uri": "https://localhost:8080/"
        },
        "id": "oScWMlkuGUef",
        "outputId": "721bf392-6149-4e17-d02e-6aef0c0a5c40"
      },
      "execution_count": null,
      "outputs": [
        {
          "output_type": "stream",
          "name": "stdout",
          "text": [
            "Рекомендації для користувача 1:\n",
            "Фільм: Close Shave, A (1995), Оцінка: 4.98\n",
            "Фільм: Santa with Muscles (1996), Оцінка: 4.92\n",
            "Фільм: Pather Panchali (1955), Оцінка: 4.91\n",
            "Фільм: Faust (1994), Оцінка: 4.79\n",
            "Фільм: Saint of Fort Washington, The (1993), Оцінка: 4.73\n",
            "------------------------------\n",
            "Рекомендації для користувача 2:\n",
            "Фільм: Pather Panchali (1955), Оцінка: 4.88\n",
            "Фільм: Santa with Muscles (1996), Оцінка: 4.85\n",
            "Фільм: Saint of Fort Washington, The (1993), Оцінка: 4.72\n",
            "Фільм: Some Mother's Son (1996), Оцінка: 4.67\n",
            "Фільм: Anna (1996), Оцінка: 4.65\n",
            "------------------------------\n",
            "Рекомендації для користувача 3:\n",
            "Фільм: Santa with Muscles (1996), Оцінка: 4.27\n",
            "Фільм: Godfather, The (1972), Оцінка: 4.05\n",
            "Фільм: Faust (1994), Оцінка: 4.05\n",
            "Фільм: Blade Runner (1982), Оцінка: 4.0\n",
            "Фільм: Saint of Fort Washington, The (1993), Оцінка: 3.96\n",
            "------------------------------\n",
            "Рекомендації для користувача 4:\n",
            "Фільм: Santa with Muscles (1996), Оцінка: 6.12\n",
            "Фільм: Pather Panchali (1955), Оцінка: 6.06\n",
            "Фільм: Faust (1994), Оцінка: 5.98\n",
            "Фільм: Saint of Fort Washington, The (1993), Оцінка: 5.89\n",
            "Фільм: Some Mother's Son (1996), Оцінка: 5.87\n",
            "------------------------------\n",
            "Рекомендації для користувача 5:\n",
            "Фільм: Santa with Muscles (1996), Оцінка: 4.27\n",
            "Фільм: Wallace & Gromit: The Best of Aardman Animation (1996), Оцінка: 4.25\n",
            "Фільм: Two or Three Things I Know About Her (1966), Оцінка: 4.17\n",
            "Фільм: Faust (1994), Оцінка: 4.14\n",
            "Фільм: Pather Panchali (1955), Оцінка: 4.04\n",
            "------------------------------\n"
          ]
        }
      ]
    },
    {
      "cell_type": "markdown",
      "source": [
        "Рекомендаційна система на основі кластеризації"
      ],
      "metadata": {
        "id": "NVfXtNwkHNX8"
      }
    },
    {
      "cell_type": "code",
      "source": [
        "# Функція обчислення відстані між двома користувачами на основі їх оцінок\n",
        "def distance(u1, u2):\n",
        "    total = 0\n",
        "    count = 0\n",
        "    for i in range(len(u1)):\n",
        "        if u1[i] != 0 and u2[i] != 0:\n",
        "            total += (u1[i] - u2[i]) ** 2\n",
        "            count += 1\n",
        "    if count == 0:\n",
        "        return float('inf')\n",
        "    return math.sqrt(total / count)\n",
        "\n",
        "# Ініціалізуємо центроїди випадковими користувачами\n",
        "random_user_indices = random.sample(range(num_users), k)\n",
        "centroids = [ratings[i].copy() for i in random_user_indices]\n",
        "\n",
        "# Кластеризація\n",
        "clusters = [[] for _ in range(k)]\n",
        "\n",
        "for _ in range(20):  # Збільшено кількість ітерацій для кращої збіжності\n",
        "    clusters = [[] for _ in range(k)]\n",
        "    for user_index, user_ratings in enumerate(ratings):\n",
        "        min_dist = float('inf')\n",
        "        cluster_id = -1\n",
        "        for c_index, centroid in enumerate(centroids):\n",
        "            dist = distance(user_ratings, centroid)\n",
        "            if dist < min_dist:\n",
        "                min_dist = dist\n",
        "                cluster_id = c_index\n",
        "        if cluster_id != -1:\n",
        "            clusters[cluster_id].append(user_index)\n",
        "\n",
        "    # Перерахунок центроїдів\n",
        "    new_centroids = [[0.0] * num_items for _ in range(k)]\n",
        "    cluster_counts = [0] * k\n",
        "    for c_index, user_indices in enumerate(clusters):\n",
        "        for u_index in user_indices:\n",
        "            for item_index in range(num_items):\n",
        "                if ratings[u_index][item_index] != 0:\n",
        "                    new_centroids[c_index][item_index] += ratings[u_index][item_index]\n",
        "        cluster_counts[c_index] = len(user_indices)\n",
        "        if cluster_counts[c_index] > 0:\n",
        "            new_centroids[c_index] = [val / cluster_counts[c_index] if cluster_counts[c_index] > 0 else 0 for val in new_centroids[c_index]]\n",
        "\n",
        "    # Перевірка на збіжність (якщо центроїди майже не змінилися)\n",
        "    centroid_diff = 0\n",
        "    for c in range(k):\n",
        "        centroid_diff += distance(centroids[c], new_centroids[c])\n",
        "    centroids = new_centroids\n",
        "    if centroid_diff < 0.001:  # Поріг збіжності\n",
        "        print(\"Кластеризація зійшлася.\")\n",
        "        break\n",
        "else:\n",
        "    print(\"Кластеризація завершилася після заданої кількості ітерацій.\")\n",
        "\n",
        "# Рекомендації на основі кластерів\n",
        "def recommend(user_index, top_n=5):\n",
        "    user_ratings = ratings[user_index]\n",
        "    # Знайдемо найближчий центроїд\n",
        "    min_dist = float('inf')\n",
        "    best_cluster_index = -1\n",
        "    for c_index, centroid in enumerate(centroids):\n",
        "        dist = distance(user_ratings, centroid)\n",
        "        if dist < min_dist:\n",
        "            min_dist = dist\n",
        "            best_cluster_index = c_index\n",
        "\n",
        "    if best_cluster_index == -1:\n",
        "        print(f\"Не вдалося знайти кластер для користувача {user_index + 1}.\")\n",
        "        return\n",
        "\n",
        "    centroid_ratings = centroids[best_cluster_index]\n",
        "    preds = []\n",
        "    rated_items = [i for i, rating in enumerate(user_ratings) if rating != 0]\n",
        "\n",
        "    for item_index in range(num_items):\n",
        "        if item_index not in rated_items:\n",
        "            preds.append((item_index, centroid_ratings[item_index]))\n",
        "\n",
        "    preds.sort(key=lambda x: x[1], reverse=True)\n",
        "    print(f\"Рекомендації для користувача {user_index + 1} (на основі кластера {best_cluster_index + 1}):\")\n",
        "    count = 0\n",
        "    for item_index, score in preds:\n",
        "        if item_index + 1 in item_id_to_title:\n",
        "            print(f\"Фільм: {item_id_to_title[item_index + 1]}, Середня оцінка кластера: {round(score, 2)}\")\n",
        "            count += 1\n",
        "            if count == top_n:\n",
        "                break\n",
        "        elif count < top_n:\n",
        "            print(f\"Товар ID: {item_index + 1}, Середня оцінка кластера: {round(score, 2)} (назва недоступна)\")\n",
        "            count += 1\n",
        "\n",
        "# Тестування для перших 5 користувачів\n",
        "for i in range(min(5, num_users)):\n",
        "    recommend(i)\n",
        "    print(\"-\" * 30)"
      ],
      "metadata": {
        "colab": {
          "base_uri": "https://localhost:8080/"
        },
        "id": "BF_VTGTyHNIH",
        "outputId": "3dbb76b4-ad01-437a-c85f-390a453dd959"
      },
      "execution_count": null,
      "outputs": [
        {
          "output_type": "stream",
          "name": "stdout",
          "text": [
            "Кластеризація завершилася після заданої кількості ітерацій.\n",
            "Рекомендації для користувача 1 (на основі кластера 6):\n",
            "Фільм: Schindler's List (1993), Середня оцінка кластера: 2.32\n",
            "Фільм: E.T. the Extra-Terrestrial (1982), Середня оцінка кластера: 2.04\n",
            "Фільм: One Flew Over the Cuckoo's Nest (1975), Середня оцінка кластера: 2.02\n",
            "Фільм: Casablanca (1942), Середня оцінка кластера: 1.94\n",
            "Фільм: It's a Wonderful Life (1946), Середня оцінка кластера: 1.71\n",
            "------------------------------\n",
            "Рекомендації для користувача 2 (на основі кластера 7):\n",
            "Фільм: Dead Man Walking (1995), Середня оцінка кластера: 2.62\n",
            "Фільм: Lone Star (1996), Середня оцінка кластера: 2.62\n",
            "Фільм: Big Night (1996), Середня оцінка кластера: 2.14\n",
            "Фільм: Boot, Das (1981), Середня оцінка кластера: 1.9\n",
            "Фільм: Cold Comfort Farm (1995), Середня оцінка кластера: 1.86\n",
            "------------------------------\n",
            "Рекомендації для користувача 3 (на основі кластера 5):\n",
            "Фільм: Titanic (1997), Середня оцінка кластера: 2.62\n",
            "Фільм: English Patient, The (1996), Середня оцінка кластера: 2.48\n",
            "Фільм: Full Monty, The (1997), Середня оцінка кластера: 1.94\n",
            "Фільм: Saint, The (1997), Середня оцінка кластера: 1.53\n",
            "Фільм: Apt Pupil (1998), Середня оцінка кластера: 1.49\n",
            "------------------------------\n",
            "Рекомендації для користувача 4 (на основі кластера 5):\n",
            "Фільм: Titanic (1997), Середня оцінка кластера: 2.62\n",
            "Фільм: English Patient, The (1996), Середня оцінка кластера: 2.48\n",
            "Фільм: L.A. Confidential (1997), Середня оцінка кластера: 2.39\n",
            "Фільм: Full Monty, The (1997), Середня оцінка кластера: 1.94\n",
            "Фільм: Game, The (1997), Середня оцінка кластера: 1.76\n",
            "------------------------------\n",
            "Рекомендації для користувача 5 (на основі кластера 6):\n",
            "Фільм: Pulp Fiction (1994), Середня оцінка кластера: 2.8\n",
            "Фільм: Godfather, The (1972), Середня оцінка кластера: 2.4\n",
            "Фільм: Schindler's List (1993), Середня оцінка кластера: 2.32\n",
            "Фільм: Shawshank Redemption, The (1994), Середня оцінка кластера: 2.24\n",
            "Фільм: Braveheart (1995), Середня оцінка кластера: 2.17\n",
            "------------------------------\n"
          ]
        }
      ]
    },
    {
      "cell_type": "markdown",
      "source": [
        "Висновок: було імпортовано датасет за допомогою бібліотеки \"surprise\", згенеровано код для отримання цільвоих даних із датасету, та адаптовано коди алгоритмів рекомендацій (МНК, Градієнтний спуск, кластеризація) для операцій з цим датасетом."
      ],
      "metadata": {
        "id": "W35Xdh5jILCv"
      }
    }
  ]
}